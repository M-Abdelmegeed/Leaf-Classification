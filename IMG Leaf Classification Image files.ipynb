{
 "cells": [
  {
   "cell_type": "code",
   "execution_count": 3,
   "id": "09b7baba",
   "metadata": {},
   "outputs": [],
   "source": [
    "import pandas as pd\n",
    "import numpy as np\n",
    "from keras.preprocessing.image import load_img, img_to_array\n",
    "from keras.utils import to_categorical\n",
    "from sklearn.preprocessing import LabelEncoder\n",
    "from keras.models import Sequential\n",
    "from keras.layers import Conv2D, MaxPooling2D, Flatten, Dense, Dropout\n",
    "from keras.optimizers import Adam"
   ]
  },
  {
   "cell_type": "code",
   "execution_count": 4,
   "id": "bdd9fc30",
   "metadata": {},
   "outputs": [
    {
     "name": "stdout",
     "output_type": "stream",
     "text": [
      "Epoch 1/10\n",
      "31/31 [==============================] - 277s 9s/step - loss: 130.9811 - accuracy: 0.0505\n",
      "Epoch 2/10\n",
      "31/31 [==============================] - 226s 7s/step - loss: 3.0061 - accuracy: 0.3131\n",
      "Epoch 3/10\n",
      "31/31 [==============================] - 164s 5s/step - loss: 1.3696 - accuracy: 0.6576\n",
      "Epoch 4/10\n",
      "31/31 [==============================] - 139s 5s/step - loss: 0.6401 - accuracy: 0.8212\n",
      "Epoch 5/10\n",
      "31/31 [==============================] - 203s 7s/step - loss: 0.3056 - accuracy: 0.9182\n",
      "Epoch 6/10\n",
      "31/31 [==============================] - 229s 7s/step - loss: 0.2053 - accuracy: 0.9394\n",
      "Epoch 7/10\n",
      "31/31 [==============================] - 166s 5s/step - loss: 0.1428 - accuracy: 0.9556\n",
      "Epoch 8/10\n",
      "31/31 [==============================] - 135s 4s/step - loss: 0.1156 - accuracy: 0.9677\n",
      "Epoch 9/10\n",
      "31/31 [==============================] - 144s 5s/step - loss: 0.0887 - accuracy: 0.9798\n",
      "Epoch 10/10\n",
      "31/31 [==============================] - 107s 3s/step - loss: 0.0794 - accuracy: 0.9808\n"
     ]
    },
    {
     "name": "stderr",
     "output_type": "stream",
     "text": [
      "E:\\Downloads\\ANACONDA3\\lib\\site-packages\\keras\\src\\engine\\training.py:3000: UserWarning: You are saving your model as an HDF5 file via `model.save()`. This file format is considered legacy. We recommend using instead the native Keras format, e.g. `model.save('my_model.keras')`.\n",
      "  saving_api.save_model(\n"
     ]
    }
   ],
   "source": [
    "# Loading the CSV files\n",
    "train_df = pd.read_csv('train.csv')\n",
    "\n",
    "img_size = (224, 224)\n",
    "\n",
    "# Function to load images\n",
    "def load_images(df, path):\n",
    "    images = []\n",
    "    labels = []\n",
    "\n",
    "    for idx, row in df.iterrows():\n",
    "        img_path = f\"{path}/{row['id']}.jpg\"\n",
    "        img = load_img(img_path, target_size=img_size)\n",
    "        img_array = img_to_array(img)\n",
    "        images.append(img_array)\n",
    "        labels.append(row['species'])\n",
    "\n",
    "    return np.array(images), np.array(labels)\n",
    "\n",
    "# Converting species names to numerical labels\n",
    "label_encoder = LabelEncoder()\n",
    "train_labels_encoded = label_encoder.fit_transform(train_df['species'])\n",
    "train_labels_one_hot = to_categorical(train_labels_encoded, num_classes=len(label_encoder.classes_))\n",
    "\n",
    "# Loading training images\n",
    "train_images, _ = load_images(train_df, 'images')\n",
    "\n",
    "# Building the CNN model\n",
    "model = Sequential()\n",
    "\n",
    "model.add(Conv2D(32, (3, 3), activation='relu', input_shape=(224, 224, 3)))\n",
    "model.add(MaxPooling2D(pool_size=(2, 2)))\n",
    "\n",
    "model.add(Conv2D(64, (3, 3), activation='relu'))\n",
    "model.add(MaxPooling2D(pool_size=(2, 2)))\n",
    "\n",
    "model.add(Conv2D(128, (3, 3), activation='relu'))\n",
    "model.add(MaxPooling2D(pool_size=(2, 2)))\n",
    "\n",
    "model.add(Flatten())\n",
    "\n",
    "model.add(Dense(512, activation='relu'))\n",
    "model.add(Dropout(0.5))\n",
    "model.add(Dense(len(label_encoder.classes_), activation='softmax'))  # Adjust output layer units\n",
    "\n",
    "\n",
    "model.compile(optimizer=Adam(), loss='categorical_crossentropy', metrics=['accuracy'])\n",
    "model.fit(train_images, train_labels_one_hot, epochs=10, batch_size=32)\n",
    "model.save('IMG_leaf_classifier_model.h5')\n",
    "#model.save('IMG_leaf_classifier_model.keras')\n",
    "\n",
    "\n",
    "\n",
    "\n",
    "# Evaluate the model on the test set\n",
    "# test_images, _ = load_images(test_df, 'path/to/test/images')\n",
    "# test_predictions = model.predict(test_images)\n",
    "# Add code to handle test predictions as needed"
   ]
  },
  {
   "cell_type": "code",
   "execution_count": 5,
   "id": "63d38047",
   "metadata": {},
   "outputs": [],
   "source": [
    "import pandas as pd\n",
    "import numpy as np\n",
    "from keras.preprocessing.image import load_img, img_to_array\n",
    "from keras.models import load_model"
   ]
  },
  {
   "cell_type": "code",
   "execution_count": 7,
   "id": "2d79df4c",
   "metadata": {},
   "outputs": [
    {
     "name": "stdout",
     "output_type": "stream",
     "text": [
      "19/19 [==============================] - 27s 712ms/step\n"
     ]
    }
   ],
   "source": [
    "# Load the CSV files\n",
    "test_df = pd.read_csv('test.csv')\n",
    "\n",
    "# Function to load test images\n",
    "def load_test_images(df, path):\n",
    "    images = []\n",
    "\n",
    "    for idx, row in df.iterrows():\n",
    "        img_name = row['id'].astype(np.int64)\n",
    "        img_path = f\"{path}/{img_name}.jpg\"\n",
    "        img = load_img(img_path, target_size=(224, 224))\n",
    "        img_array = img_to_array(img)\n",
    "        images.append(img_array)\n",
    "\n",
    "    return np.array(images)\n",
    "\n",
    "\n",
    "test_images = load_test_images(test_df, 'images')\n",
    "\n",
    "model = load_model('IMG_leaf_classifier_model.h5')\n",
    "predictions = model.predict(test_images)\n",
    "predicted_classes = np.argmax(predictions, axis=1)\n",
    "predicted_species = label_encoder.inverse_transform(predicted_classes)\n",
    "result_df = pd.DataFrame({'id': test_df['id'], 'predicted_species': predicted_species})\n",
    "\n",
    "# Saving the results to a CSV file\n",
    "result_df.to_csv('test_predictions.csv', index=False)"
   ]
  },
  {
   "cell_type": "code",
   "execution_count": null,
   "id": "50beaeaf",
   "metadata": {},
   "outputs": [],
   "source": []
  }
 ],
 "metadata": {
  "kernelspec": {
   "display_name": "Python 3 (ipykernel)",
   "language": "python",
   "name": "python3"
  },
  "language_info": {
   "codemirror_mode": {
    "name": "ipython",
    "version": 3
   },
   "file_extension": ".py",
   "mimetype": "text/x-python",
   "name": "python",
   "nbconvert_exporter": "python",
   "pygments_lexer": "ipython3",
   "version": "3.9.16"
  }
 },
 "nbformat": 4,
 "nbformat_minor": 5
}
